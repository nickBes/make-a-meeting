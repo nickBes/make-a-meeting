{
 "cells": [
  {
   "cell_type": "code",
   "execution_count": null,
   "metadata": {},
   "outputs": [],
   "source": [
    "ranges = [\n",
    "    (1, 4),\n",
    "    (-1, 2),\n",
    "    (3, 5)\n",
    "]\n",
    "\n",
    "ranges2 = [\n",
    "    (-1, 1),\n",
    "    (1, 2),\n",
    "    ()\n",
    "]\n",
    "\n"
   ]
  }
 ],
 "metadata": {
  "language_info": {
   "name": "python"
  },
  "orig_nbformat": 4
 },
 "nbformat": 4,
 "nbformat_minor": 2
}
